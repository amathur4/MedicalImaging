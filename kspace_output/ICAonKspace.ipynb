{
 "cells": [
  {
   "cell_type": "code",
   "execution_count": 1,
   "metadata": {},
   "outputs": [
    {
     "ename": "ModuleNotFoundError",
     "evalue": "No module named 'cv2'",
     "output_type": "error",
     "traceback": [
      "\u001b[0;31m---------------------------------------------------------------------------\u001b[0m",
      "\u001b[0;31mModuleNotFoundError\u001b[0m                       Traceback (most recent call last)",
      "\u001b[0;32m<ipython-input-1-1f3a2ce35de3>\u001b[0m in \u001b[0;36m<module>\u001b[0;34m\u001b[0m\n\u001b[1;32m      3\u001b[0m \u001b[0;32mimport\u001b[0m \u001b[0mnumpy\u001b[0m \u001b[0;32mas\u001b[0m \u001b[0mnp\u001b[0m\u001b[0;34m\u001b[0m\u001b[0;34m\u001b[0m\u001b[0m\n\u001b[1;32m      4\u001b[0m \u001b[0;32mimport\u001b[0m \u001b[0mglob\u001b[0m\u001b[0;34m\u001b[0m\u001b[0;34m\u001b[0m\u001b[0m\n\u001b[0;32m----> 5\u001b[0;31m \u001b[0;32mimport\u001b[0m \u001b[0mcv2\u001b[0m\u001b[0;34m\u001b[0m\u001b[0;34m\u001b[0m\u001b[0m\n\u001b[0m",
      "\u001b[0;31mModuleNotFoundError\u001b[0m: No module named 'cv2'"
     ]
    }
   ],
   "source": [
    "from sklearn.decomposition import FastICA\n",
    "from matplotlib import pyplot as plt\n",
    "import numpy as np\n",
    "import glob\n",
    "import cv2"
   ]
  },
  {
   "cell_type": "code",
   "execution_count": null,
   "metadata": {},
   "outputs": [],
   "source": [
    "#files = glob.glob('*.jpg')\n",
    "#image_array_list = []\n",
    "#for file in files:\n",
    "image_name = 'P10-0001.jpg_kspace_1030-212605.jpg'\n",
    "#Desktop\\Medical_Imaging\\GitHub\\MedicalImaging\\kspace_output\\\n",
    "img = cv2.imread(image_name, 0)\n",
    "#image_array_list.append(np.array(img))\n",
    "ica = FastICA(n_components = 65, max_iter=100000, tol=0.01)\n",
    "ica.fit(img)\n",
    "image_ica = ica.fit_transform(img)\n",
    "image_restored = ica.inverse_transform(image_ica)"
   ]
  },
  {
   "cell_type": "code",
   "execution_count": null,
   "metadata": {},
   "outputs": [],
   "source": [
    "inverse = np.fft.ifft2(image_restored)\n",
    "imagefcs = np.zeros((inverse.shape[0], inverse.shape[1]), np.float)\n",
    "for i in range(inverse.shape[0]):\n",
    "    for j in range(inverse.shape[1]):\n",
    "        imagefcs[i, j] = np.log(np.abs(inverse[i, j])*10)"
   ]
  },
  {
   "cell_type": "code",
   "execution_count": null,
   "metadata": {},
   "outputs": [],
   "source": [
    "plt.subplot(121),plt.imshow(img, cmap = 'gray')\n",
    "plt.title('Original Image'), plt.xticks([]), plt.yticks([])\n",
    "#plt.subplot(121),plt.imshow(image_restored, cmap = 'gray')\n",
    "#plt.title('Restored Image'), plt.xticks([]), plt.yticks([])\n",
    "plt.subplot(122),plt.imshow(imagefcs, cmap = 'gray')\n",
    "plt.title('Restored MRI Image'), plt.xticks([]), plt.yticks([])\n",
    "plt.show()"
   ]
  },
  {
   "cell_type": "code",
   "execution_count": null,
   "metadata": {},
   "outputs": [],
   "source": []
  }
 ],
 "metadata": {
  "kernelspec": {
   "display_name": "Python 3",
   "language": "python",
   "name": "python3"
  },
  "language_info": {
   "codemirror_mode": {
    "name": "ipython",
    "version": 3
   },
   "file_extension": ".py",
   "mimetype": "text/x-python",
   "name": "python",
   "nbconvert_exporter": "python",
   "pygments_lexer": "ipython3",
   "version": "3.7.4"
  }
 },
 "nbformat": 4,
 "nbformat_minor": 2
}
